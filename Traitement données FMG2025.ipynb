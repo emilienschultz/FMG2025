{
 "cells": [
  {
   "cell_type": "code",
   "execution_count": 2,
   "metadata": {
    "collapsed": true
   },
   "outputs": [],
   "source": [
    "%matplotlib inline\n",
    "import scipy as sp\n",
    "import pandas as pd\n",
    "import numpy as np\n",
    "import random as rdm\n",
    "import seaborn as sns\n",
    "import math\n",
    "import re\n",
    "import bs4\n",
    "import matplotlib.pyplot as plt\n",
    "import geopandas as gpd\n",
    "import bs4"
   ]
  },
  {
   "cell_type": "markdown",
   "metadata": {},
   "source": [
    "## Traitement du corpus Europresse\n",
    "\n",
    "Ensemble des articles Europresse requête \"France médecine génomique\""
   ]
  },
  {
   "cell_type": "markdown",
   "metadata": {},
   "source": [
    "Chargement du corpus"
   ]
  },
  {
   "cell_type": "code",
   "execution_count": 7,
   "metadata": {
    "collapsed": false
   },
   "outputs": [],
   "source": [
    "corpus_html = bs4.BeautifulSoup(open(\"DATA/corpus_europrese_FMG2025.HTML\"),\"lxml\")"
   ]
  },
  {
   "cell_type": "code",
   "execution_count": 21,
   "metadata": {
    "collapsed": false
   },
   "outputs": [],
   "source": [
    "#Mettre en forme le corpus en cherchant les champs qui nous intéressent\n",
    "corpus = []\n",
    "for i in corpus_html.find_all(\"article\"):\n",
    "    try:\n",
    "        titre = i.find(\"div\",{\"class\":\"titreArticle\"}).text\n",
    "    except:\n",
    "        titre = None\n",
    "    try:\n",
    "        header = i.find(\"span\",{\"class\":\"DocHeader\"}).text\n",
    "    except:\n",
    "        header = None\n",
    "    try:\n",
    "        publication = i.find(\"span\",{\"class\":\"DocPublicationName\"}).text\n",
    "    except:\n",
    "        publication = None\n",
    "    try:\n",
    "        text = i.find(\"div\",{\"class\":\"DocText clearfix\"}).text\n",
    "    except:\n",
    "        text = None\n",
    "    corpus.append([header,titre,publication,text])"
   ]
  },
  {
   "cell_type": "code",
   "execution_count": 22,
   "metadata": {
    "collapsed": false
   },
   "outputs": [],
   "source": [
    "corpus = pd.DataFrame(corpus) #passer en format Panda\n",
    "corpus.columns = [\"Date\",\"Titre\",\"Journal\",\"Contenu\"]"
   ]
  },
  {
   "cell_type": "markdown",
   "metadata": {},
   "source": [
    "Sortie du document"
   ]
  },
  {
   "cell_type": "code",
   "execution_count": 29,
   "metadata": {
    "collapsed": false
   },
   "outputs": [],
   "source": [
    "corpus[[\"Date\",\"Titre\",\"Journal\"]].to_excel(\"DATA/europresse_codage.xlsx\")"
   ]
  }
 ],
 "metadata": {
  "kernelspec": {
   "display_name": "p35",
   "language": "python",
   "name": "p35"
  },
  "language_info": {
   "codemirror_mode": {
    "name": "ipython",
    "version": 3
   },
   "file_extension": ".py",
   "mimetype": "text/x-python",
   "name": "python",
   "nbconvert_exporter": "python",
   "pygments_lexer": "ipython3",
   "version": "3.5.4"
  }
 },
 "nbformat": 4,
 "nbformat_minor": 0
}
