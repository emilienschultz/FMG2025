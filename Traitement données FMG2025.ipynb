{
 "cells": [
  {
   "cell_type": "code",
   "execution_count": 35,
   "metadata": {
    "collapsed": true
   },
   "outputs": [],
   "source": [
    "%matplotlib inline\n",
    "import scipy as sp\n",
    "import pandas as pd\n",
    "import numpy as np\n",
    "import random as rdm\n",
    "import seaborn as sns\n",
    "import math\n",
    "import re\n",
    "import bs4\n",
    "import matplotlib.pyplot as plt\n",
    "import geopandas as gpd\n",
    "import bs4\n",
    "import dateparser"
   ]
  },
  {
   "cell_type": "markdown",
   "metadata": {},
   "source": [
    "## Traitement du corpus Europresse\n",
    "\n",
    "Ensemble des articles Europresse requête \"France médecine génomique\""
   ]
  },
  {
   "cell_type": "markdown",
   "metadata": {},
   "source": [
    "Chargement du corpus"
   ]
  },
  {
   "cell_type": "code",
   "execution_count": 109,
   "metadata": {
    "collapsed": false
   },
   "outputs": [],
   "source": [
    "corpus_html = bs4.BeautifulSoup(open(\"DATA/corpus_europrese_FMG2025.HTML\"),\"lxml\")"
   ]
  },
  {
   "cell_type": "code",
   "execution_count": 110,
   "metadata": {
    "collapsed": false
   },
   "outputs": [],
   "source": [
    "#Mettre en forme le corpus en cherchant les champs qui nous intéressent\n",
    "corpus = []\n",
    "for i in corpus_html.find_all(\"article\"):\n",
    "    try:\n",
    "        titre = i.find(\"div\",{\"class\":\"titreArticle\"}).text\n",
    "    except:\n",
    "        titre = None\n",
    "    try:\n",
    "        header = i.find(\"span\",{\"class\":\"DocHeader\"}).text\n",
    "    except:\n",
    "        header = None\n",
    "    try:\n",
    "        publication = i.find(\"span\",{\"class\":\"DocPublicationName\"}).text\n",
    "    except:\n",
    "        publication = None\n",
    "    try:\n",
    "        text = i.find(\"div\",{\"class\":\"DocText clearfix\"}).text\n",
    "    except:\n",
    "        text = None\n",
    "    corpus.append([header,titre,publication,text])"
   ]
  },
  {
   "cell_type": "code",
   "execution_count": 111,
   "metadata": {
    "collapsed": false
   },
   "outputs": [],
   "source": [
    "corpus = pd.DataFrame(corpus) #passer en format Panda\n",
    "corpus.columns = [\"Date\",\"Titre\",\"Journal\",\"Contenu\"]"
   ]
  },
  {
   "cell_type": "markdown",
   "metadata": {},
   "source": [
    "Sortie du document pour codage"
   ]
  },
  {
   "cell_type": "code",
   "execution_count": 112,
   "metadata": {
    "collapsed": false
   },
   "outputs": [],
   "source": [
    "corpus[[\"Date\",\"Titre\",\"Journal\"]].to_excel(\"DATA/europresse_codage.xlsx\")"
   ]
  },
  {
   "cell_type": "markdown",
   "metadata": {},
   "source": [
    "## Traitement du fichier Europresse recodé"
   ]
  },
  {
   "cell_type": "markdown",
   "metadata": {},
   "source": [
    "Chargement du fichier"
   ]
  },
  {
   "cell_type": "code",
   "execution_count": 78,
   "metadata": {
    "collapsed": false
   },
   "outputs": [
    {
     "data": {
      "text/html": [
       "<div>\n",
       "<style>\n",
       "    .dataframe thead tr:only-child th {\n",
       "        text-align: right;\n",
       "    }\n",
       "\n",
       "    .dataframe thead th {\n",
       "        text-align: left;\n",
       "    }\n",
       "\n",
       "    .dataframe tbody tr th {\n",
       "        vertical-align: top;\n",
       "    }\n",
       "</style>\n",
       "<table border=\"1\" class=\"dataframe\">\n",
       "  <thead>\n",
       "    <tr style=\"text-align: right;\">\n",
       "      <th></th>\n",
       "      <th>Date</th>\n",
       "      <th>Titre</th>\n",
       "      <th>Journal</th>\n",
       "      <th>Pertinence</th>\n",
       "      <th>Soin, Patients, système de santé, santé publique</th>\n",
       "      <th>Economie, industrie, financement, coûts</th>\n",
       "      <th>Lieu</th>\n",
       "      <th>Politique, Gouvernement</th>\n",
       "      <th>International</th>\n",
       "      <th>Innovation</th>\n",
       "      <th>Recherche Médicale</th>\n",
       "      <th>Autres Pathologies : rares, communes, cardiovasculaires et neurodégénératives</th>\n",
       "      <th>cancer</th>\n",
       "      <th>Médecine de Précision, Personnalisée, génomique</th>\n",
       "      <th>Biostatistique, big data, analyse de données</th>\n",
       "      <th>Ethique</th>\n",
       "      <th>Unnamed: 16</th>\n",
       "    </tr>\n",
       "  </thead>\n",
       "  <tbody>\n",
       "    <tr>\n",
       "      <th>0</th>\n",
       "      <td>2017-11-30</td>\n",
       "      <td>Le numéro 1 du séquençage de l'ADN lance un \"...</td>\n",
       "      <td>La Tribune</td>\n",
       "      <td>1</td>\n",
       "      <td>non</td>\n",
       "      <td>oui</td>\n",
       "      <td>Evry</td>\n",
       "      <td>oui</td>\n",
       "      <td>oui</td>\n",
       "      <td>oui</td>\n",
       "      <td>non</td>\n",
       "      <td>non</td>\n",
       "      <td>non</td>\n",
       "      <td>oui</td>\n",
       "      <td>non</td>\n",
       "      <td>non</td>\n",
       "      <td>NaN</td>\n",
       "    </tr>\n",
       "    <tr>\n",
       "      <th>1</th>\n",
       "      <td>2016-12-19</td>\n",
       "      <td>Plan  France  médecine  génomique 2025 Pour u...</td>\n",
       "      <td>Le Quotidien du Médecin</td>\n",
       "      <td>3</td>\n",
       "      <td>oui</td>\n",
       "      <td>oui</td>\n",
       "      <td>non</td>\n",
       "      <td>oui</td>\n",
       "      <td>oui</td>\n",
       "      <td>oui</td>\n",
       "      <td>oui</td>\n",
       "      <td>oui</td>\n",
       "      <td>oui</td>\n",
       "      <td>oui</td>\n",
       "      <td>oui</td>\n",
       "      <td>oui</td>\n",
       "      <td>NaN</td>\n",
       "    </tr>\n",
       "    <tr>\n",
       "      <th>2</th>\n",
       "      <td>2017-09-18</td>\n",
       "      <td>Sélection du projet SeqOIA porté par l'Assist...</td>\n",
       "      <td>NewsPress</td>\n",
       "      <td>2</td>\n",
       "      <td>oui</td>\n",
       "      <td>oui</td>\n",
       "      <td>Ile-de-France</td>\n",
       "      <td>non</td>\n",
       "      <td>non</td>\n",
       "      <td>non</td>\n",
       "      <td>oui</td>\n",
       "      <td>oui</td>\n",
       "      <td>oui</td>\n",
       "      <td>oui</td>\n",
       "      <td>oui</td>\n",
       "      <td>non</td>\n",
       "      <td>NaN</td>\n",
       "    </tr>\n",
       "  </tbody>\n",
       "</table>\n",
       "</div>"
      ],
      "text/plain": [
       "        Date                                              Titre  \\\n",
       "0 2017-11-30   Le numéro 1 du séquençage de l'ADN lance un \"...   \n",
       "1 2016-12-19   Plan  France  médecine  génomique 2025 Pour u...   \n",
       "2 2017-09-18   Sélection du projet SeqOIA porté par l'Assist...   \n",
       "\n",
       "                       Journal  Pertinence  \\\n",
       "0                   La Tribune           1   \n",
       "1   Le Quotidien du Médecin              3   \n",
       "2                    NewsPress           2   \n",
       "\n",
       "  Soin, Patients, système de santé, santé publique  \\\n",
       "0                                              non   \n",
       "1                                              oui   \n",
       "2                                              oui   \n",
       "\n",
       "  Economie, industrie, financement, coûts           Lieu  \\\n",
       "0                                     oui           Evry   \n",
       "1                                     oui            non   \n",
       "2                                     oui  Ile-de-France   \n",
       "\n",
       "  Politique, Gouvernement International  Innovation Recherche Médicale  \\\n",
       "0                     oui            oui        oui                non   \n",
       "1                     oui            oui        oui                oui   \n",
       "2                     non            non        non                oui   \n",
       "\n",
       "  Autres Pathologies : rares, communes, cardiovasculaires et neurodégénératives  \\\n",
       "0                                                non                              \n",
       "1                                                oui                              \n",
       "2                                                oui                              \n",
       "\n",
       "  cancer Médecine de Précision, Personnalisée, génomique  \\\n",
       "0    non                                             oui   \n",
       "1    oui                                             oui   \n",
       "2    oui                                             oui   \n",
       "\n",
       "  Biostatistique, big data, analyse de données Ethique Unnamed: 16  \n",
       "0                                          non     non         NaN  \n",
       "1                                          oui     oui         NaN  \n",
       "2                                          oui     non         NaN  "
      ]
     },
     "execution_count": 78,
     "metadata": {},
     "output_type": "execute_result"
    }
   ],
   "source": [
    "data = pd.read_excel(\"DATA/europresse_codage-completed.xlsx\")\n",
    "data[0:3]"
   ]
  },
  {
   "cell_type": "markdown",
   "metadata": {},
   "source": [
    "Traitements"
   ]
  },
  {
   "cell_type": "code",
   "execution_count": 58,
   "metadata": {
    "collapsed": false
   },
   "outputs": [
    {
     "data": {
      "text/plain": [
       "Le Quotidien du Médecin    12\n",
       "AFP Infos Françaises        8\n",
       "Boursier                    8\n",
       "La Tribune                  7\n",
       "Biotech.Info 3.0            7\n",
       "Bulletin Quotidien          6\n",
       "Ouest-France                5\n",
       "NewsPress                   5\n",
       "Actu Labo                   4\n",
       "Le Figaro                   3\n",
       "Name: Journal, dtype: int64"
      ]
     },
     "execution_count": 58,
     "metadata": {},
     "output_type": "execute_result"
    }
   ],
   "source": [
    "data[\"Journal\"].str.strip().value_counts()[0:10]"
   ]
  },
  {
   "cell_type": "code",
   "execution_count": 59,
   "metadata": {
    "collapsed": false
   },
   "outputs": [
    {
     "data": {
      "text/plain": [
       "1    78\n",
       "3    21\n",
       "0    12\n",
       "2     9\n",
       "Name: Pertinence, dtype: int64"
      ]
     },
     "execution_count": 59,
     "metadata": {},
     "output_type": "execute_result"
    }
   ],
   "source": [
    "data[\"Pertinence\"].value_counts()"
   ]
  },
  {
   "cell_type": "markdown",
   "metadata": {},
   "source": [
    "On écarte les cas non pertinents (0)"
   ]
  },
  {
   "cell_type": "code",
   "execution_count": 80,
   "metadata": {
    "collapsed": true
   },
   "outputs": [],
   "source": [
    "data = data[data[\"Pertinence\"]!=0]"
   ]
  },
  {
   "cell_type": "markdown",
   "metadata": {},
   "source": [
    "Evolution dans le temps"
   ]
  },
  {
   "cell_type": "code",
   "execution_count": 97,
   "metadata": {
    "collapsed": false
   },
   "outputs": [
    {
     "data": {
      "image/png": "[encoded data removed]",
      "text/plain": [
       "<matplotlib.figure.Figure at 0x1138f90f0>"
      ]
     },
     "metadata": {},
     "output_type": "display_data"
    }
   ],
   "source": [
    "data[\"count\"]=1\n",
    "ax = data[[\"Date\",\"count\"]].set_index(\"Date\").resample(\"3M\").sum().plot(kind=\"bar\")"
   ]
  },
  {
   "cell_type": "markdown",
   "metadata": {},
   "source": [
    "### Traitements des variables"
   ]
  },
  {
   "cell_type": "code",
   "execution_count": 98,
   "metadata": {
    "collapsed": false
   },
   "outputs": [
    {
     "data": {
      "text/plain": [
       "non    58\n",
       "oui    50\n",
       "Name: Soin, Patients, système de santé, santé publique, dtype: int64"
      ]
     },
     "execution_count": 98,
     "metadata": {},
     "output_type": "execute_result"
    }
   ],
   "source": [
    "data[\"Soin, Patients, système de santé, santé publique\"].value_counts()"
   ]
  },
  {
   "cell_type": "code",
   "execution_count": 99,
   "metadata": {
    "collapsed": false
   },
   "outputs": [
    {
     "data": {
      "text/plain": [
       "oui    66\n",
       "non    42\n",
       "Name: Economie, industrie, financement, coûts, dtype: int64"
      ]
     },
     "execution_count": 99,
     "metadata": {},
     "output_type": "execute_result"
    }
   ],
   "source": [
    "data[\"Economie, industrie, financement, coûts\"].value_counts()"
   ]
  },
  {
   "cell_type": "code",
   "execution_count": 100,
   "metadata": {
    "collapsed": false
   },
   "outputs": [
    {
     "data": {
      "text/plain": [
       "non    58\n",
       "oui    48\n",
       "Name: Politique, Gouvernement, dtype: int64"
      ]
     },
     "execution_count": 100,
     "metadata": {},
     "output_type": "execute_result"
    }
   ],
   "source": [
    "data[\"Politique, Gouvernement\"].value_counts()"
   ]
  },
  {
   "cell_type": "code",
   "execution_count": 101,
   "metadata": {
    "collapsed": false
   },
   "outputs": [
    {
     "data": {
      "text/plain": [
       "non    91\n",
       "oui    17\n",
       "Name: Innovation, dtype: int64"
      ]
     },
     "execution_count": 101,
     "metadata": {},
     "output_type": "execute_result"
    }
   ],
   "source": [
    "data[\"Innovation\"].value_counts()"
   ]
  },
  {
   "cell_type": "code",
   "execution_count": 102,
   "metadata": {
    "collapsed": false
   },
   "outputs": [
    {
     "data": {
      "text/plain": [
       "oui    86\n",
       "non    22\n",
       "Name: Recherche Médicale, dtype: int64"
      ]
     },
     "execution_count": 102,
     "metadata": {},
     "output_type": "execute_result"
    }
   ],
   "source": [
    "data[\"Recherche Médicale\"].value_counts()"
   ]
  },
  {
   "cell_type": "code",
   "execution_count": 103,
   "metadata": {
    "collapsed": false
   },
   "outputs": [
    {
     "data": {
      "text/plain": [
       "oui    61\n",
       "non    47\n",
       "Name: cancer, dtype: int64"
      ]
     },
     "execution_count": 103,
     "metadata": {},
     "output_type": "execute_result"
    }
   ],
   "source": [
    "data[\"cancer\"].value_counts()"
   ]
  },
  {
   "cell_type": "code",
   "execution_count": 104,
   "metadata": {
    "collapsed": false
   },
   "outputs": [
    {
     "data": {
      "text/plain": [
       "oui    55\n",
       "non    53\n",
       "Name: Médecine de Précision, Personnalisée, génomique, dtype: int64"
      ]
     },
     "execution_count": 104,
     "metadata": {},
     "output_type": "execute_result"
    }
   ],
   "source": [
    "data[\"Médecine de Précision, Personnalisée, génomique\"].value_counts()"
   ]
  },
  {
   "cell_type": "markdown",
   "metadata": {},
   "source": [
    "### Tableaux croisés"
   ]
  },
  {
   "cell_type": "code",
   "execution_count": 106,
   "metadata": {
    "collapsed": false
   },
   "outputs": [
    {
     "data": {
      "text/html": [
       "<div>\n",
       "<style>\n",
       "    .dataframe thead tr:only-child th {\n",
       "        text-align: right;\n",
       "    }\n",
       "\n",
       "    .dataframe thead th {\n",
       "        text-align: left;\n",
       "    }\n",
       "\n",
       "    .dataframe tbody tr th {\n",
       "        vertical-align: top;\n",
       "    }\n",
       "</style>\n",
       "<table border=\"1\" class=\"dataframe\">\n",
       "  <thead>\n",
       "    <tr style=\"text-align: right;\">\n",
       "      <th>Soin, Patients, système de santé, santé publique</th>\n",
       "      <th>non</th>\n",
       "      <th>oui</th>\n",
       "    </tr>\n",
       "    <tr>\n",
       "      <th>cancer</th>\n",
       "      <th></th>\n",
       "      <th></th>\n",
       "    </tr>\n",
       "  </thead>\n",
       "  <tbody>\n",
       "    <tr>\n",
       "      <th>non</th>\n",
       "      <td>27</td>\n",
       "      <td>20</td>\n",
       "    </tr>\n",
       "    <tr>\n",
       "      <th>oui</th>\n",
       "      <td>31</td>\n",
       "      <td>30</td>\n",
       "    </tr>\n",
       "  </tbody>\n",
       "</table>\n",
       "</div>"
      ],
      "text/plain": [
       "Soin, Patients, système de santé, santé publique  non  oui\n",
       "cancer                                                    \n",
       "non                                                27   20\n",
       "oui                                                31   30"
      ]
     },
     "execution_count": 106,
     "metadata": {},
     "output_type": "execute_result"
    }
   ],
   "source": [
    "pd.crosstab(data[\"cancer\"],data[\"Soin, Patients, système de santé, santé publique\"])"
   ]
  },
  {
   "cell_type": "code",
   "execution_count": 107,
   "metadata": {
    "collapsed": false
   },
   "outputs": [
    {
     "data": {
      "text/html": [
       "<div>\n",
       "<style>\n",
       "    .dataframe thead tr:only-child th {\n",
       "        text-align: right;\n",
       "    }\n",
       "\n",
       "    .dataframe thead th {\n",
       "        text-align: left;\n",
       "    }\n",
       "\n",
       "    .dataframe tbody tr th {\n",
       "        vertical-align: top;\n",
       "    }\n",
       "</style>\n",
       "<table border=\"1\" class=\"dataframe\">\n",
       "  <thead>\n",
       "    <tr style=\"text-align: right;\">\n",
       "      <th>Innovation</th>\n",
       "      <th>non</th>\n",
       "      <th>oui</th>\n",
       "    </tr>\n",
       "    <tr>\n",
       "      <th>cancer</th>\n",
       "      <th></th>\n",
       "      <th></th>\n",
       "    </tr>\n",
       "  </thead>\n",
       "  <tbody>\n",
       "    <tr>\n",
       "      <th>non</th>\n",
       "      <td>41</td>\n",
       "      <td>6</td>\n",
       "    </tr>\n",
       "    <tr>\n",
       "      <th>oui</th>\n",
       "      <td>50</td>\n",
       "      <td>11</td>\n",
       "    </tr>\n",
       "  </tbody>\n",
       "</table>\n",
       "</div>"
      ],
      "text/plain": [
       "Innovation  non  oui\n",
       "cancer              \n",
       "non          41    6\n",
       "oui          50   11"
      ]
     },
     "execution_count": 107,
     "metadata": {},
     "output_type": "execute_result"
    }
   ],
   "source": [
    "pd.crosstab(data[\"cancer\"],data[\"Innovation\"])"
   ]
  },
  {
   "cell_type": "code",
   "execution_count": 108,
   "metadata": {
    "collapsed": false
   },
   "outputs": [
    {
     "data": {
      "text/html": [
       "<div>\n",
       "<style>\n",
       "    .dataframe thead tr:only-child th {\n",
       "        text-align: right;\n",
       "    }\n",
       "\n",
       "    .dataframe thead th {\n",
       "        text-align: left;\n",
       "    }\n",
       "\n",
       "    .dataframe tbody tr th {\n",
       "        vertical-align: top;\n",
       "    }\n",
       "</style>\n",
       "<table border=\"1\" class=\"dataframe\">\n",
       "  <thead>\n",
       "    <tr style=\"text-align: right;\">\n",
       "      <th>Economie, industrie, financement, coûts</th>\n",
       "      <th>non</th>\n",
       "      <th>oui</th>\n",
       "    </tr>\n",
       "    <tr>\n",
       "      <th>cancer</th>\n",
       "      <th></th>\n",
       "      <th></th>\n",
       "    </tr>\n",
       "  </thead>\n",
       "  <tbody>\n",
       "    <tr>\n",
       "      <th>non</th>\n",
       "      <td>23</td>\n",
       "      <td>24</td>\n",
       "    </tr>\n",
       "    <tr>\n",
       "      <th>oui</th>\n",
       "      <td>19</td>\n",
       "      <td>42</td>\n",
       "    </tr>\n",
       "  </tbody>\n",
       "</table>\n",
       "</div>"
      ],
      "text/plain": [
       "Economie, industrie, financement, coûts  non  oui\n",
       "cancer                                           \n",
       "non                                       23   24\n",
       "oui                                       19   42"
      ]
     },
     "execution_count": 108,
     "metadata": {},
     "output_type": "execute_result"
    }
   ],
   "source": [
    "pd.crosstab(data[\"cancer\"],data[\"Economie, industrie, financement, coûts\"])"
   ]
  },
  {
   "cell_type": "markdown",
   "metadata": {},
   "source": [
    "## Générer un fichier Iramuteq"
   ]
  },
  {
   "cell_type": "code",
   "execution_count": 156,
   "metadata": {
    "collapsed": false
   },
   "outputs": [],
   "source": [
    "with open(\"DATA/sortie-ira-europresse.txt\",\"w\") as f:\n",
    "    for i,j in data.join(corpus[\"Contenu\"]).iterrows():\n",
    "        f.write(\"**** *id_%d *pertinence_%d *soin_%s *economie_%s *cancer_%s *recherchem_%s annee_%d \\n\\n\"\n",
    "                % (i,j[\"Pertinence\"],j[\"Soin, Patients, système de santé, santé publique\"],\n",
    "                   j[\"Economie, industrie, financement, coûts\"],\n",
    "                   j[\"cancer\"],\n",
    "                   j[\"Recherche Médicale\"],\n",
    "                   j[\"Date\"].year\n",
    "                   ))\n",
    "        f.write(j[\"Titre\"]+\"\\n\")\n",
    "        f.write(j[\"Contenu\"].replace(\"*\",\" \")+\"\\n\\n\")\n"
   ]
  }
 ],
 "metadata": {
  "kernelspec": {
   "display_name": "p35",
   "language": "python",
   "name": "p35"
  },
  "language_info": {
   "codemirror_mode": {
    "name": "ipython",
    "version": 3
   },
   "file_extension": ".py",
   "mimetype": "text/x-python",
   "name": "python",
   "nbconvert_exporter": "python",
   "pygments_lexer": "ipython3",
   "version": "3.5.4"
  }
 },
 "nbformat": 4,
 "nbformat_minor": 0
}
